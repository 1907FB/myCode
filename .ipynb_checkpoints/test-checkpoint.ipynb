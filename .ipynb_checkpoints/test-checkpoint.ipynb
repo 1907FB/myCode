{
 "cells": [
  {
   "cell_type": "code",
   "execution_count": 2,
   "id": "bfb50bec",
   "metadata": {},
   "outputs": [],
   "source": [
    "import torch"
   ]
  },
  {
   "cell_type": "code",
   "execution_count": 38,
   "id": "3106c163",
   "metadata": {},
   "outputs": [
    {
     "name": "stdout",
     "output_type": "stream",
     "text": [
      "torch.Size([1, 4, 4, 1, 1])\n",
      "torch.Size([1, 4, 1, 1, 1])\n",
      "torch.Size([1, 4, 4, 1, 1])\n",
      "tensor([[[[[False]],\n",
      "\n",
      "          [[ True]],\n",
      "\n",
      "          [[ True]],\n",
      "\n",
      "          [[False]]],\n",
      "\n",
      "\n",
      "         [[[False]],\n",
      "\n",
      "          [[ True]],\n",
      "\n",
      "          [[False]],\n",
      "\n",
      "          [[ True]]],\n",
      "\n",
      "\n",
      "         [[[ True]],\n",
      "\n",
      "          [[False]],\n",
      "\n",
      "          [[False]],\n",
      "\n",
      "          [[ True]]],\n",
      "\n",
      "\n",
      "         [[[ True]],\n",
      "\n",
      "          [[False]],\n",
      "\n",
      "          [[False]],\n",
      "\n",
      "          [[ True]]]]])\n"
     ]
    }
   ],
   "source": [
    "N,C,H,W=(1,16,16,16)\n",
    "input = torch.rand(N,C,H,W)\n",
    "\n",
    "b = torch.reshape(input, (N, C // 4, 4, H, W))\n",
    "mask = torch.ones(b.shape)\n",
    "print(b.shape)\n",
    "a, idx = torch.topk(torch.abs(b), 2, dim=2)\n",
    "a = a[:,:,1:,:,:]\n",
    "print(a.shape)\n",
    "# print(a[:,:,1,:,:])\n",
    "print(b.shape)\n",
    "tmp = torch.abs(b) < a\n",
    "print(tmp)\n",
    "mask[tmp]=0"
   ]
  },
  {
   "cell_type": "code",
   "execution_count": 12,
   "id": "bdcb3a7a",
   "metadata": {},
   "outputs": [],
   "source": [
    "mask = torch.reshape(mask, (N, C, H, W))"
   ]
  },
  {
   "cell_type": "code",
   "execution_count": 13,
   "id": "3c5df87a",
   "metadata": {},
   "outputs": [],
   "source": [
    "mask1 = torch.zeros(input.shape)\n",
    "count = int(C / 4) * 4\n",
    "for n in range(N):\n",
    "    # print(n)\n",
    "    for h in range(H):\n",
    "        for w in range(W):\n",
    "            for beginIdx in range(0, count, 4):\n",
    "                EndIdx = beginIdx + 4\n",
    "                _, a = torch.topk(input[n, beginIdx:EndIdx, h, w], 2)\n",
    "                a[0] += beginIdx\n",
    "                a[1] += beginIdx\n",
    "                mask1[n, a, h, w] = 1\n"
   ]
  },
  {
   "cell_type": "code",
   "execution_count": 15,
   "id": "6fd8c9c1",
   "metadata": {},
   "outputs": [
    {
     "name": "stdout",
     "output_type": "stream",
     "text": [
      "tensor([[[[0.]],\n",
      "\n",
      "         [[0.]],\n",
      "\n",
      "         [[0.]],\n",
      "\n",
      "         [[1.]],\n",
      "\n",
      "         [[1.]],\n",
      "\n",
      "         [[0.]],\n",
      "\n",
      "         [[1.]],\n",
      "\n",
      "         [[0.]],\n",
      "\n",
      "         [[1.]],\n",
      "\n",
      "         [[1.]],\n",
      "\n",
      "         [[1.]],\n",
      "\n",
      "         [[0.]],\n",
      "\n",
      "         [[0.]],\n",
      "\n",
      "         [[1.]],\n",
      "\n",
      "         [[0.]],\n",
      "\n",
      "         [[1.]]]])\n",
      "tensor([[[[0.]],\n",
      "\n",
      "         [[0.]],\n",
      "\n",
      "         [[1.]],\n",
      "\n",
      "         [[1.]],\n",
      "\n",
      "         [[1.]],\n",
      "\n",
      "         [[0.]],\n",
      "\n",
      "         [[1.]],\n",
      "\n",
      "         [[0.]],\n",
      "\n",
      "         [[0.]],\n",
      "\n",
      "         [[1.]],\n",
      "\n",
      "         [[1.]],\n",
      "\n",
      "         [[0.]],\n",
      "\n",
      "         [[0.]],\n",
      "\n",
      "         [[1.]],\n",
      "\n",
      "         [[0.]],\n",
      "\n",
      "         [[1.]]]])\n"
     ]
    }
   ],
   "source": [
    "print(mask)\n",
    "print(mask1)"
   ]
  },
  {
   "cell_type": "code",
   "execution_count": 56,
   "id": "9b72f389",
   "metadata": {},
   "outputs": [
    {
     "name": "stdout",
     "output_type": "stream",
     "text": [
      "tensor([[0.5847, 0.3622, 0.5549],\n",
      "        [0.9686, 0.0916, 0.3606]])\n",
      "torch.Size([1, 2])\n"
     ]
    }
   ],
   "source": [
    "c = torch.rand(2,3)\n",
    "print(c)\n",
    "i = torch.tensor([[0,1],])\n",
    "print(i.shape)\n"
   ]
  },
  {
   "cell_type": "code",
   "execution_count": null,
   "id": "834ef096",
   "metadata": {},
   "outputs": [],
   "source": []
  }
 ],
 "metadata": {
  "kernelspec": {
   "display_name": "Python 3 (ipykernel)",
   "language": "python",
   "name": "python3"
  },
  "language_info": {
   "codemirror_mode": {
    "name": "ipython",
    "version": 3
   },
   "file_extension": ".py",
   "mimetype": "text/x-python",
   "name": "python",
   "nbconvert_exporter": "python",
   "pygments_lexer": "ipython3",
   "version": "3.7.11"
  }
 },
 "nbformat": 4,
 "nbformat_minor": 5
}
